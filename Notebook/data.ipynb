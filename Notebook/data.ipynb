{
 "cells": [
  {
   "cell_type": "code",
   "execution_count": 1,
   "metadata": {},
   "outputs": [
    {
     "name": "stdout",
     "output_type": "stream",
     "text": [
      "Defaulting to user installation because normal site-packages is not writeable\n",
      "Collecting pyodbc\n",
      "  Downloading pyodbc-5.1.0-cp312-cp312-win_amd64.whl.metadata (2.8 kB)\n",
      "Downloading pyodbc-5.1.0-cp312-cp312-win_amd64.whl (69 kB)\n",
      "   ---------------------------------------- 0.0/69.3 kB ? eta -:--:--\n",
      "   ---------------------------------------- 0.0/69.3 kB ? eta -:--:--\n",
      "   ----- ---------------------------------- 10.2/69.3 kB ? eta -:--:--\n",
      "   ----- ---------------------------------- 10.2/69.3 kB ? eta -:--:--\n",
      "   ----------------- ---------------------- 30.7/69.3 kB 262.6 kB/s eta 0:00:01\n",
      "   ----------------------- ---------------- 41.0/69.3 kB 245.8 kB/s eta 0:00:01\n",
      "   ----------------------------------- ---- 61.4/69.3 kB 297.7 kB/s eta 0:00:01\n",
      "   ----------------------------------- ---- 61.4/69.3 kB 297.7 kB/s eta 0:00:01\n",
      "   ----------------------------------- ---- 61.4/69.3 kB 297.7 kB/s eta 0:00:01\n",
      "   ---------------------------------------- 69.3/69.3 kB 198.7 kB/s eta 0:00:00\n",
      "Installing collected packages: pyodbc\n",
      "Successfully installed pyodbc-5.1.0\n",
      "Note: you may need to restart the kernel to use updated packages.\n",
      "Defaulting to user installation because normal site-packages is not writeable\n",
      "Collecting python-dotenv\n",
      "  Downloading python_dotenv-1.0.1-py3-none-any.whl.metadata (23 kB)\n",
      "Downloading python_dotenv-1.0.1-py3-none-any.whl (19 kB)\n",
      "Installing collected packages: python-dotenv\n",
      "Successfully installed python-dotenv-1.0.1\n",
      "Note: you may need to restart the kernel to use updated packages.\n"
     ]
    }
   ],
   "source": [
    " %pip install pyodbc  \n",
    " %pip install python-dotenv "
   ]
  },
  {
   "cell_type": "code",
   "execution_count": 4,
   "metadata": {},
   "outputs": [],
   "source": [
    "import pyodbc     \n",
    "from dotenv import dotenv_values    #import the dotenv_values function from the dotenv package\n",
    "import pandas as pd\n",
    "import warnings \n",
    "warnings.filterwarnings('ignore')"
   ]
  },
  {
   "cell_type": "code",
   "execution_count": 5,
   "metadata": {},
   "outputs": [],
   "source": [
    "# Load environment variables from .env file into a dictionary\n",
    "environment_variables = dotenv_values('.env')\n",
    "\n",
    "# Get the values for the credentials you set in the '.env' file\n",
    "server = environment_variables.get(\"SERVER\")\n",
    "database = environment_variables.get(\"DATABASE\")\n",
    "username = environment_variables.get(\"USERNAME\")\n",
    "password = environment_variables.get(\"PASSWORD\")"
   ]
  },
  {
   "cell_type": "code",
   "execution_count": 6,
   "metadata": {},
   "outputs": [],
   "source": [
    "# Create a connection string\n",
    "connection_string = f\"DRIVER={{SQL Server}};SERVER={server};DATABASE={database};UID={username};PWD={password};MARS_Connection=yes;MinProtocolVersion=TLSv1.2;\""
   ]
  },
  {
   "cell_type": "code",
   "execution_count": null,
   "metadata": {},
   "outputs": [],
   "source": [
    "# Use the connect method of the pyodbc library and pass in the connection string.\n",
    "# This will connect to the server and might take a few seconds to be complete. \n",
    "# Check your internet connection if it takes more time than necessary\n",
    "\n",
    "connection = pyodbc.connect(connection_string)"
   ]
  }
 ],
 "metadata": {
  "kernelspec": {
   "display_name": "Python 3",
   "language": "python",
   "name": "python3"
  },
  "language_info": {
   "codemirror_mode": {
    "name": "ipython",
    "version": 3
   },
   "file_extension": ".py",
   "mimetype": "text/x-python",
   "name": "python",
   "nbconvert_exporter": "python",
   "pygments_lexer": "ipython3",
   "version": "3.12.3"
  }
 },
 "nbformat": 4,
 "nbformat_minor": 2
}
