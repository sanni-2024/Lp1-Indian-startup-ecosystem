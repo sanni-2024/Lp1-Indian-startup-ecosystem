{
 "cells": [
  {
   "cell_type": "markdown",
   "metadata": {},
   "source": [
    "   Analyzing Investment Trends In The indian Startup Ecosystem Data-Driven Approach Using 'CRISP-DM'\n",
    "   \n",
    "   BUSINESS UNDERSTANDING \n",
    "   \n",
    " Objective\n",
    "   Our team is exploring the indian start ecosystem to have insights funding trends and establishes promising opportunities. The main objective of exploring the indian ecosystem is to analyze funding dataset from 2018 to 2021,by focusing on  the key factors, i.e the amount of funding received  sectors in the ecosystem, stages of investment and geographical locations.\n",
    "\n",
    "   HYPOTHESIS TESTING\n",
    "   Null Hypothesis(H0) There are no significant differences in the funding amount received by all the startups across different sectors and stages.\n",
    "   \n",
    "   \n",
    "   Alternative Hypothesis (H1) There are significant differences in the funding amount received  by all the startups across different sectors and stages.\n",
    "\n",
    "\n",
    "DATA UNDERSTANDING\n",
    "COLUNMS\n",
    "company_Brand: Name of the startup.\n",
    "Founded: year the startup was founded.\n",
    "HeadQuarter: City where the startup is headquartered.\n",
    "Sector: INdustry sector of the startup.\n",
    "What_it_does: Brief description of the startup's business.\n",
    "Founders: Names of the Founders\n",
    "Investors:  Investors or investment firms that funded the startup.\n",
    "Amount: amount of funding received (in dollars).\n",
    "Stage: stage of investment (i.e pre-seed, seed, series A).\n",
    "\n",
    "\n",
    "ANALYTICAL QUESTIONS\n",
    "1. Funding Trends:\n",
    "How has the total funding amount changed year over year from 2018 to 2021?\n",
    "How has the average funding amount in each sector changed over the years (2018 - 2021)\n",
    " \n",
    "2. Sector Analysis:\n",
    "Which sectors have received the most funding, and how does the funding distribution vary across sectors?\n",
    " \n",
    "3.Stage Analysis:\n",
    "What is the distribution of funding across different investment stages (e.g., Pre-seed, Seed, Series A)?\n",
    " \n",
    "4. Geographical Analysis:\n",
    "Which cities or regions have the highest concentration of funded startups?\n",
    " \n",
    "5.Investor Influence:\n",
    "Who are the top investors in the Indian startup ecosystem, and what is their funding pattern?\n",
    " \n",
    "6. Founder Impact:\n",
    "Is there a correlation between the number of founders and the amount of funding received?\n",
    " \n",
    "7. What are the characteristics of startups in the highest-funded sectors (e.g., number of founders, location)?\n",
    " \n",
    "8. Which Business is more viable to set - The best performing businesses?"
   ]
  },
  {
   "cell_type": "code",
   "execution_count": 1,
   "metadata": {},
   "outputs": [
    {
     "name": "stdout",
     "output_type": "stream",
     "text": [
      "Defaulting to user installation because normal site-packages is not writeable\n",
      "Requirement already satisfied: pyodbc in c:\\users\\dell\\appdata\\local\\packages\\pythonsoftwarefoundation.python.3.12_qbz5n2kfra8p0\\localcache\\local-packages\\python312\\site-packages (5.1.0)\n",
      "Note: you may need to restart the kernel to use updated packages.\n",
      "Defaulting to user installation because normal site-packages is not writeable\n",
      "Requirement already satisfied: python-dotenv in c:\\users\\dell\\appdata\\local\\packages\\pythonsoftwarefoundation.python.3.12_qbz5n2kfra8p0\\localcache\\local-packages\\python312\\site-packages (1.0.1)\n",
      "Note: you may need to restart the kernel to use updated packages.\n"
     ]
    }
   ],
   "source": [
    " %pip install pyodbc  \n",
    " %pip install python-dotenv "
   ]
  },
  {
   "cell_type": "code",
   "execution_count": 2,
   "metadata": {},
   "outputs": [],
   "source": [
    "import pyodbc     \n",
    "from dotenv import dotenv_values    #import the dotenv_values function from the dotenv package\n",
    "import pandas as pd\n",
    "import warnings \n",
    "warnings.filterwarnings('ignore')"
   ]
  },
  {
   "cell_type": "code",
   "execution_count": 3,
   "metadata": {},
   "outputs": [],
   "source": [
    "# Load environment variables from .env file into a dictionary\n",
    "environment_variables = dotenv_values('.env')\n",
    "\n",
    "# Get the values for the credentials you set in the '.env' file\n",
    "server = environment_variables.get(\"server\")\n",
    "database = environment_variables.get(\"database\")\n",
    "username = environment_variables.get(\"username\")\n",
    "password = environment_variables.get(\"password\")"
   ]
  },
  {
   "cell_type": "code",
   "execution_count": 4,
   "metadata": {},
   "outputs": [],
   "source": [
    "# Create a connection string\n",
    "connection_string = f\"DRIVER={{SQL Server}};SERVER={server};DATABASE={database};UID={username};PWD={password};MARS_Connection=yes;MinProtocolVersion=TLSv1.2;\""
   ]
  },
  {
   "cell_type": "code",
   "execution_count": 5,
   "metadata": {},
   "outputs": [],
   "source": [
    "# Use the connect method of the pyodbc library and pass in the connection string.\n",
    "# This will connect to the server and might take a few seconds to be complete. \n",
    "# Check your internet connection if it takes more time than necessary\n",
    "\n",
    "connection = pyodbc.connect(connection_string)"
   ]
  },
  {
   "cell_type": "code",
   "execution_count": 6,
   "metadata": {},
   "outputs": [],
   "source": [
    "import pandas as pd\n",
    "import matplotlib.pyplot as plt\n",
    "import seaborn as sns"
   ]
  },
  {
   "cell_type": "code",
   "execution_count": 7,
   "metadata": {},
   "outputs": [
    {
     "data": {
      "text/html": [
       "<div>\n",
       "<style scoped>\n",
       "    .dataframe tbody tr th:only-of-type {\n",
       "        vertical-align: middle;\n",
       "    }\n",
       "\n",
       "    .dataframe tbody tr th {\n",
       "        vertical-align: top;\n",
       "    }\n",
       "\n",
       "    .dataframe thead th {\n",
       "        text-align: right;\n",
       "    }\n",
       "</style>\n",
       "<table border=\"1\" class=\"dataframe\">\n",
       "  <thead>\n",
       "    <tr style=\"text-align: right;\">\n",
       "      <th></th>\n",
       "      <th>Company_Brand</th>\n",
       "      <th>Founded</th>\n",
       "      <th>HeadQuarter</th>\n",
       "      <th>Sector</th>\n",
       "      <th>What_it_does</th>\n",
       "      <th>Founders</th>\n",
       "      <th>Investor</th>\n",
       "      <th>Amount</th>\n",
       "      <th>Stage</th>\n",
       "      <th>column10</th>\n",
       "    </tr>\n",
       "  </thead>\n",
       "  <tbody>\n",
       "    <tr>\n",
       "      <th>0</th>\n",
       "      <td>Aqgromalin</td>\n",
       "      <td>2019.0</td>\n",
       "      <td>Chennai</td>\n",
       "      <td>AgriTech</td>\n",
       "      <td>Cultivating Ideas for Profit</td>\n",
       "      <td>Prasanna Manogaran, Bharani C L</td>\n",
       "      <td>Angel investors</td>\n",
       "      <td>200000.0</td>\n",
       "      <td>None</td>\n",
       "      <td>None</td>\n",
       "    </tr>\n",
       "    <tr>\n",
       "      <th>1</th>\n",
       "      <td>Krayonnz</td>\n",
       "      <td>2019.0</td>\n",
       "      <td>Bangalore</td>\n",
       "      <td>EdTech</td>\n",
       "      <td>An academy-guardian-scholar centric ecosystem ...</td>\n",
       "      <td>Saurabh Dixit, Gurudutt Upadhyay</td>\n",
       "      <td>GSF Accelerator</td>\n",
       "      <td>100000.0</td>\n",
       "      <td>Pre-seed</td>\n",
       "      <td>None</td>\n",
       "    </tr>\n",
       "    <tr>\n",
       "      <th>2</th>\n",
       "      <td>PadCare Labs</td>\n",
       "      <td>2018.0</td>\n",
       "      <td>Pune</td>\n",
       "      <td>Hygiene management</td>\n",
       "      <td>Converting bio-hazardous waste to harmless waste</td>\n",
       "      <td>Ajinkya Dhariya</td>\n",
       "      <td>Venture Center</td>\n",
       "      <td>NaN</td>\n",
       "      <td>Pre-seed</td>\n",
       "      <td>None</td>\n",
       "    </tr>\n",
       "    <tr>\n",
       "      <th>3</th>\n",
       "      <td>NCOME</td>\n",
       "      <td>2020.0</td>\n",
       "      <td>New Delhi</td>\n",
       "      <td>Escrow</td>\n",
       "      <td>Escrow-as-a-service platform</td>\n",
       "      <td>Ritesh Tiwari</td>\n",
       "      <td>Venture Catalysts, PointOne Capital</td>\n",
       "      <td>400000.0</td>\n",
       "      <td>None</td>\n",
       "      <td>None</td>\n",
       "    </tr>\n",
       "    <tr>\n",
       "      <th>4</th>\n",
       "      <td>Gramophone</td>\n",
       "      <td>2016.0</td>\n",
       "      <td>Indore</td>\n",
       "      <td>AgriTech</td>\n",
       "      <td>Gramophone is an AgTech platform enabling acce...</td>\n",
       "      <td>Ashish Rajan Singh, Harshit Gupta, Nishant Mah...</td>\n",
       "      <td>Siana Capital Management, Info Edge</td>\n",
       "      <td>340000.0</td>\n",
       "      <td>None</td>\n",
       "      <td>None</td>\n",
       "    </tr>\n",
       "  </tbody>\n",
       "</table>\n",
       "</div>"
      ],
      "text/plain": [
       "  Company_Brand  Founded HeadQuarter              Sector  \\\n",
       "0    Aqgromalin   2019.0     Chennai            AgriTech   \n",
       "1      Krayonnz   2019.0   Bangalore              EdTech   \n",
       "2  PadCare Labs   2018.0        Pune  Hygiene management   \n",
       "3         NCOME   2020.0   New Delhi              Escrow   \n",
       "4    Gramophone   2016.0      Indore            AgriTech   \n",
       "\n",
       "                                        What_it_does  \\\n",
       "0                       Cultivating Ideas for Profit   \n",
       "1  An academy-guardian-scholar centric ecosystem ...   \n",
       "2   Converting bio-hazardous waste to harmless waste   \n",
       "3                       Escrow-as-a-service platform   \n",
       "4  Gramophone is an AgTech platform enabling acce...   \n",
       "\n",
       "                                            Founders  \\\n",
       "0                    Prasanna Manogaran, Bharani C L   \n",
       "1                   Saurabh Dixit, Gurudutt Upadhyay   \n",
       "2                                    Ajinkya Dhariya   \n",
       "3                                      Ritesh Tiwari   \n",
       "4  Ashish Rajan Singh, Harshit Gupta, Nishant Mah...   \n",
       "\n",
       "                              Investor    Amount     Stage column10  \n",
       "0                      Angel investors  200000.0      None     None  \n",
       "1                      GSF Accelerator  100000.0  Pre-seed     None  \n",
       "2                       Venture Center       NaN  Pre-seed     None  \n",
       "3  Venture Catalysts, PointOne Capital  400000.0      None     None  \n",
       "4  Siana Capital Management, Info Edge  340000.0      None     None  "
      ]
     },
     "execution_count": 7,
     "metadata": {},
     "output_type": "execute_result"
    }
   ],
   "source": [
    "# load 2020 dataset\n",
    "\n",
    "query = '''Select * \n",
    "from dbo.LP1_startup_funding2020'''\n",
    "\n",
    "data = pd.read_sql(query, connection)\n",
    "data.head()"
   ]
  },
  {
   "cell_type": "markdown",
   "metadata": {},
   "source": [
    "CHECK THE SHAPE OF 2020  DATASET\n",
    "\n",
    "The shape of the data tells you the number of rows and columns in your dataset"
   ]
  },
  {
   "cell_type": "code",
   "execution_count": 8,
   "metadata": {},
   "outputs": [
    {
     "data": {
      "text/plain": [
       "(1055, 10)"
      ]
     },
     "execution_count": 8,
     "metadata": {},
     "output_type": "execute_result"
    }
   ],
   "source": [
    "data.shape"
   ]
  },
  {
   "cell_type": "markdown",
   "metadata": {},
   "source": [
    "GET BASIC INFORMATION ABOUT 2020 DATASETS\n",
    "\n",
    "This method prints out information on your dataframe including all the columns, non-null values and dtypes"
   ]
  },
  {
   "cell_type": "code",
   "execution_count": 9,
   "metadata": {},
   "outputs": [
    {
     "name": "stdout",
     "output_type": "stream",
     "text": [
      "<class 'pandas.core.frame.DataFrame'>\n",
      "RangeIndex: 1055 entries, 0 to 1054\n",
      "Data columns (total 10 columns):\n",
      " #   Column         Non-Null Count  Dtype  \n",
      "---  ------         --------------  -----  \n",
      " 0   Company_Brand  1055 non-null   object \n",
      " 1   Founded        842 non-null    float64\n",
      " 2   HeadQuarter    961 non-null    object \n",
      " 3   Sector         1042 non-null   object \n",
      " 4   What_it_does   1055 non-null   object \n",
      " 5   Founders       1043 non-null   object \n",
      " 6   Investor       1017 non-null   object \n",
      " 7   Amount         801 non-null    float64\n",
      " 8   Stage          591 non-null    object \n",
      " 9   column10       2 non-null      object \n",
      "dtypes: float64(2), object(8)\n",
      "memory usage: 82.6+ KB\n"
     ]
    }
   ],
   "source": [
    "data.info()"
   ]
  },
  {
   "cell_type": "markdown",
   "metadata": {},
   "source": [
    "CHECK FOR DUPLICATES IN THE 2020 DATASET"
   ]
  },
  {
   "cell_type": "code",
   "execution_count": 10,
   "metadata": {},
   "outputs": [
    {
     "data": {
      "text/plain": [
       "3"
      ]
     },
     "execution_count": 10,
     "metadata": {},
     "output_type": "execute_result"
    }
   ],
   "source": [
    "data.duplicated().sum()"
   ]
  },
  {
   "cell_type": "markdown",
   "metadata": {},
   "source": [
    "CHECK FOR NULL VALUES IN THE 2020 DATASETS"
   ]
  },
  {
   "cell_type": "code",
   "execution_count": 11,
   "metadata": {},
   "outputs": [
    {
     "data": {
      "text/plain": [
       "Company_Brand       0\n",
       "Founded           213\n",
       "HeadQuarter        94\n",
       "Sector             13\n",
       "What_it_does        0\n",
       "Founders           12\n",
       "Investor           38\n",
       "Amount            254\n",
       "Stage             464\n",
       "column10         1053\n",
       "dtype: int64"
      ]
     },
     "execution_count": 11,
     "metadata": {},
     "output_type": "execute_result"
    }
   ],
   "source": [
    "data.isnull().sum()"
   ]
  },
  {
   "cell_type": "code",
   "execution_count": 12,
   "metadata": {},
   "outputs": [
    {
     "data": {
      "text/html": [
       "<div>\n",
       "<style scoped>\n",
       "    .dataframe tbody tr th:only-of-type {\n",
       "        vertical-align: middle;\n",
       "    }\n",
       "\n",
       "    .dataframe tbody tr th {\n",
       "        vertical-align: top;\n",
       "    }\n",
       "\n",
       "    .dataframe thead th {\n",
       "        text-align: right;\n",
       "    }\n",
       "</style>\n",
       "<table border=\"1\" class=\"dataframe\">\n",
       "  <thead>\n",
       "    <tr style=\"text-align: right;\">\n",
       "      <th></th>\n",
       "      <th>Founded</th>\n",
       "      <th>Amount</th>\n",
       "    </tr>\n",
       "  </thead>\n",
       "  <tbody>\n",
       "    <tr>\n",
       "      <th>count</th>\n",
       "      <td>842.000000</td>\n",
       "      <td>8.010000e+02</td>\n",
       "    </tr>\n",
       "    <tr>\n",
       "      <th>mean</th>\n",
       "      <td>2015.363420</td>\n",
       "      <td>1.130430e+08</td>\n",
       "    </tr>\n",
       "    <tr>\n",
       "      <th>std</th>\n",
       "      <td>4.097909</td>\n",
       "      <td>2.476635e+09</td>\n",
       "    </tr>\n",
       "    <tr>\n",
       "      <th>min</th>\n",
       "      <td>1973.000000</td>\n",
       "      <td>1.270000e+04</td>\n",
       "    </tr>\n",
       "    <tr>\n",
       "      <th>25%</th>\n",
       "      <td>2014.000000</td>\n",
       "      <td>1.000000e+06</td>\n",
       "    </tr>\n",
       "    <tr>\n",
       "      <th>50%</th>\n",
       "      <td>2016.000000</td>\n",
       "      <td>3.000000e+06</td>\n",
       "    </tr>\n",
       "    <tr>\n",
       "      <th>75%</th>\n",
       "      <td>2018.000000</td>\n",
       "      <td>1.100000e+07</td>\n",
       "    </tr>\n",
       "    <tr>\n",
       "      <th>max</th>\n",
       "      <td>2020.000000</td>\n",
       "      <td>7.000000e+10</td>\n",
       "    </tr>\n",
       "  </tbody>\n",
       "</table>\n",
       "</div>"
      ],
      "text/plain": [
       "           Founded        Amount\n",
       "count   842.000000  8.010000e+02\n",
       "mean   2015.363420  1.130430e+08\n",
       "std       4.097909  2.476635e+09\n",
       "min    1973.000000  1.270000e+04\n",
       "25%    2014.000000  1.000000e+06\n",
       "50%    2016.000000  3.000000e+06\n",
       "75%    2018.000000  1.100000e+07\n",
       "max    2020.000000  7.000000e+10"
      ]
     },
     "execution_count": 12,
     "metadata": {},
     "output_type": "execute_result"
    }
   ],
   "source": [
    "data.describe()"
   ]
  },
  {
   "cell_type": "code",
   "execution_count": 13,
   "metadata": {},
   "outputs": [
    {
     "data": {
      "text/plain": [
       "Company_Brand    905\n",
       "Founded           26\n",
       "HeadQuarter       77\n",
       "Sector           302\n",
       "What_it_does     990\n",
       "Founders         927\n",
       "Investor         848\n",
       "Amount           300\n",
       "Stage             42\n",
       "column10           2\n",
       "dtype: int64"
      ]
     },
     "execution_count": 13,
     "metadata": {},
     "output_type": "execute_result"
    }
   ],
   "source": [
    "data.nunique()"
   ]
  },
  {
   "cell_type": "code",
   "execution_count": 14,
   "metadata": {},
   "outputs": [
    {
     "data": {
      "text/plain": [
       "Company_Brand     object\n",
       "Founded          float64\n",
       "HeadQuarter       object\n",
       "Sector            object\n",
       "What_it_does      object\n",
       "Founders          object\n",
       "Investor          object\n",
       "Amount           float64\n",
       "Stage             object\n",
       "column10          object\n",
       "dtype: object"
      ]
     },
     "execution_count": 14,
     "metadata": {},
     "output_type": "execute_result"
    }
   ],
   "source": [
    "data.dtypes"
   ]
  },
  {
   "cell_type": "code",
   "execution_count": 15,
   "metadata": {},
   "outputs": [
    {
     "data": {
      "text/plain": [
       "Company_Brand       0\n",
       "Founded           213\n",
       "HeadQuarter        94\n",
       "Sector             13\n",
       "What_it_does        0\n",
       "Founders           12\n",
       "Investor           38\n",
       "Amount            254\n",
       "Stage             464\n",
       "column10         1053\n",
       "dtype: int64"
      ]
     },
     "execution_count": 15,
     "metadata": {},
     "output_type": "execute_result"
    }
   ],
   "source": [
    "#Displaying colums with missing values\n",
    "data.isna().sum()"
   ]
  },
  {
   "cell_type": "code",
   "execution_count": 16,
   "metadata": {},
   "outputs": [],
   "source": [
    "#Dropping columns\n",
    "data.drop(['column10'],axis=1,inplace=True)"
   ]
  },
  {
   "cell_type": "code",
   "execution_count": 17,
   "metadata": {},
   "outputs": [
    {
     "data": {
      "text/html": [
       "<div>\n",
       "<style scoped>\n",
       "    .dataframe tbody tr th:only-of-type {\n",
       "        vertical-align: middle;\n",
       "    }\n",
       "\n",
       "    .dataframe tbody tr th {\n",
       "        vertical-align: top;\n",
       "    }\n",
       "\n",
       "    .dataframe thead th {\n",
       "        text-align: right;\n",
       "    }\n",
       "</style>\n",
       "<table border=\"1\" class=\"dataframe\">\n",
       "  <thead>\n",
       "    <tr style=\"text-align: right;\">\n",
       "      <th></th>\n",
       "      <th>Company_Brand</th>\n",
       "      <th>Founded</th>\n",
       "      <th>HeadQuarter</th>\n",
       "      <th>Sector</th>\n",
       "      <th>What_it_does</th>\n",
       "      <th>Founders</th>\n",
       "      <th>Investor</th>\n",
       "      <th>Amount</th>\n",
       "      <th>Stage</th>\n",
       "    </tr>\n",
       "  </thead>\n",
       "  <tbody>\n",
       "    <tr>\n",
       "      <th>0</th>\n",
       "      <td>Aqgromalin</td>\n",
       "      <td>2019.0</td>\n",
       "      <td>Chennai</td>\n",
       "      <td>AgriTech</td>\n",
       "      <td>Cultivating Ideas for Profit</td>\n",
       "      <td>Prasanna Manogaran, Bharani C L</td>\n",
       "      <td>Angel investors</td>\n",
       "      <td>200000.0</td>\n",
       "      <td>None</td>\n",
       "    </tr>\n",
       "    <tr>\n",
       "      <th>1</th>\n",
       "      <td>Krayonnz</td>\n",
       "      <td>2019.0</td>\n",
       "      <td>Bangalore</td>\n",
       "      <td>EdTech</td>\n",
       "      <td>An academy-guardian-scholar centric ecosystem ...</td>\n",
       "      <td>Saurabh Dixit, Gurudutt Upadhyay</td>\n",
       "      <td>GSF Accelerator</td>\n",
       "      <td>100000.0</td>\n",
       "      <td>Pre-seed</td>\n",
       "    </tr>\n",
       "    <tr>\n",
       "      <th>2</th>\n",
       "      <td>PadCare Labs</td>\n",
       "      <td>2018.0</td>\n",
       "      <td>Pune</td>\n",
       "      <td>Hygiene management</td>\n",
       "      <td>Converting bio-hazardous waste to harmless waste</td>\n",
       "      <td>Ajinkya Dhariya</td>\n",
       "      <td>Venture Center</td>\n",
       "      <td>NaN</td>\n",
       "      <td>Pre-seed</td>\n",
       "    </tr>\n",
       "    <tr>\n",
       "      <th>3</th>\n",
       "      <td>NCOME</td>\n",
       "      <td>2020.0</td>\n",
       "      <td>New Delhi</td>\n",
       "      <td>Escrow</td>\n",
       "      <td>Escrow-as-a-service platform</td>\n",
       "      <td>Ritesh Tiwari</td>\n",
       "      <td>Venture Catalysts, PointOne Capital</td>\n",
       "      <td>400000.0</td>\n",
       "      <td>None</td>\n",
       "    </tr>\n",
       "    <tr>\n",
       "      <th>4</th>\n",
       "      <td>Gramophone</td>\n",
       "      <td>2016.0</td>\n",
       "      <td>Indore</td>\n",
       "      <td>AgriTech</td>\n",
       "      <td>Gramophone is an AgTech platform enabling acce...</td>\n",
       "      <td>Ashish Rajan Singh, Harshit Gupta, Nishant Mah...</td>\n",
       "      <td>Siana Capital Management, Info Edge</td>\n",
       "      <td>340000.0</td>\n",
       "      <td>None</td>\n",
       "    </tr>\n",
       "  </tbody>\n",
       "</table>\n",
       "</div>"
      ],
      "text/plain": [
       "  Company_Brand  Founded HeadQuarter              Sector  \\\n",
       "0    Aqgromalin   2019.0     Chennai            AgriTech   \n",
       "1      Krayonnz   2019.0   Bangalore              EdTech   \n",
       "2  PadCare Labs   2018.0        Pune  Hygiene management   \n",
       "3         NCOME   2020.0   New Delhi              Escrow   \n",
       "4    Gramophone   2016.0      Indore            AgriTech   \n",
       "\n",
       "                                        What_it_does  \\\n",
       "0                       Cultivating Ideas for Profit   \n",
       "1  An academy-guardian-scholar centric ecosystem ...   \n",
       "2   Converting bio-hazardous waste to harmless waste   \n",
       "3                       Escrow-as-a-service platform   \n",
       "4  Gramophone is an AgTech platform enabling acce...   \n",
       "\n",
       "                                            Founders  \\\n",
       "0                    Prasanna Manogaran, Bharani C L   \n",
       "1                   Saurabh Dixit, Gurudutt Upadhyay   \n",
       "2                                    Ajinkya Dhariya   \n",
       "3                                      Ritesh Tiwari   \n",
       "4  Ashish Rajan Singh, Harshit Gupta, Nishant Mah...   \n",
       "\n",
       "                              Investor    Amount     Stage  \n",
       "0                      Angel investors  200000.0      None  \n",
       "1                      GSF Accelerator  100000.0  Pre-seed  \n",
       "2                       Venture Center       NaN  Pre-seed  \n",
       "3  Venture Catalysts, PointOne Capital  400000.0      None  \n",
       "4  Siana Capital Management, Info Edge  340000.0      None  "
      ]
     },
     "execution_count": 17,
     "metadata": {},
     "output_type": "execute_result"
    }
   ],
   "source": [
    "data.head()"
   ]
  },
  {
   "cell_type": "markdown",
   "metadata": {},
   "source": [
    "Handling missing values"
   ]
  },
  {
   "cell_type": "code",
   "execution_count": 18,
   "metadata": {},
   "outputs": [
    {
     "data": {
      "text/plain": [
       "0                             Angel investors\n",
       "1                             GSF Accelerator\n",
       "2                              Venture Center\n",
       "3         Venture Catalysts, PointOne Capital\n",
       "4         Siana Capital Management, Info Edge\n",
       "                        ...                  \n",
       "1050    DSG Consumer Partners, Blume Ventures\n",
       "1051            Sequoia India, Ribbit Capital\n",
       "1052                               Verlinvest\n",
       "1053               SIG Global India Fund LLP.\n",
       "1054                        Chiratae Ventures\n",
       "Name: Investor, Length: 1055, dtype: object"
      ]
     },
     "execution_count": 18,
     "metadata": {},
     "output_type": "execute_result"
    }
   ],
   "source": [
    "#For columns with a few missing values, fill with 'unknown'\n",
    "data['HeadQuarter'].fillna('Unknown,inplace=True')\n",
    "data['Sector'].fillna('Unknown,inplace=True')\n",
    "data['Founders'].fillna('Unknown,inplace=True')\n",
    "data['Investor'].fillna('Unknown,inplace=True')"
   ]
  },
  {
   "cell_type": "code",
   "execution_count": 19,
   "metadata": {},
   "outputs": [],
   "source": [
    "#For'Founded'fill missing values with the median year\n",
    "data['Founded'].fillna(data['Founded'].median(),inplace=True)"
   ]
  },
  {
   "cell_type": "code",
   "execution_count": 20,
   "metadata": {},
   "outputs": [],
   "source": [
    "#For'Stage'fill missing values with the median funding amount\n",
    "data['Amount'].fillna(data['Amount'].median(),inplace=True)"
   ]
  },
  {
   "cell_type": "code",
   "execution_count": 21,
   "metadata": {},
   "outputs": [],
   "source": [
    "#For'Founded'fill missing values with aplaceholder\n",
    "data['Stage'].fillna('Unknown',inplace=True)"
   ]
  },
  {
   "cell_type": "code",
   "execution_count": 22,
   "metadata": {},
   "outputs": [],
   "source": [
    "#Treating the 'Founded' as Year.\n",
    "#Convert 'Founded' to integer type.\n",
    "data['Founded'] = data['Founded'].astype(int)"
   ]
  },
  {
   "cell_type": "code",
   "execution_count": 23,
   "metadata": {},
   "outputs": [],
   "source": [
    "#Optimizing Memory usage\n",
    "#Convert 'Stage' to categorical type\n",
    "data['Stage'] = data['Stage'].astype('category')"
   ]
  },
  {
   "cell_type": "code",
   "execution_count": 24,
   "metadata": {},
   "outputs": [
    {
     "name": "stdout",
     "output_type": "stream",
     "text": [
      "<class 'pandas.core.frame.DataFrame'>\n",
      "RangeIndex: 1055 entries, 0 to 1054\n",
      "Data columns (total 9 columns):\n",
      " #   Column         Non-Null Count  Dtype   \n",
      "---  ------         --------------  -----   \n",
      " 0   Company_Brand  1055 non-null   object  \n",
      " 1   Founded        1055 non-null   int32   \n",
      " 2   HeadQuarter    961 non-null    object  \n",
      " 3   Sector         1042 non-null   object  \n",
      " 4   What_it_does   1055 non-null   object  \n",
      " 5   Founders       1043 non-null   object  \n",
      " 6   Investor       1017 non-null   object  \n",
      " 7   Amount         1055 non-null   float64 \n",
      " 8   Stage          1055 non-null   category\n",
      "dtypes: category(1), float64(1), int32(1), object(6)\n",
      "memory usage: 64.4+ KB\n"
     ]
    }
   ],
   "source": [
    "#verifying the changes\n",
    "data.info()"
   ]
  },
  {
   "cell_type": "code",
   "execution_count": 25,
   "metadata": {},
   "outputs": [
    {
     "name": "stdout",
     "output_type": "stream",
     "text": [
      "    Company_Brand  Founded HeadQuarter                 Sector  \\\n",
      "145     Krimanshi     2015     Jodhpur  Biotechnology company   \n",
      "205         Nykaa     2012      Mumbai              Cosmetics   \n",
      "362        Byju’s     2011   Bangalore                 EdTech   \n",
      "\n",
      "                                          What_it_does         Founders  \\\n",
      "145  Krimanshi aims to increase rural income by imp...     Nikhil Bohra   \n",
      "205  Nykaa is an online marketplace for different b...    Falguni Nayar   \n",
      "362  An Indian educational technology and online tu...  Byju Raveendran   \n",
      "\n",
      "                                           Investor       Amount    Stage  \n",
      "145  Rajasthan Venture Capital Fund, AIM Smart City     600000.0     Seed  \n",
      "205                        Alia Bhatt, Katrina Kaif    3000000.0  Unknown  \n",
      "362           Owl Ventures, Tiger Global Management  500000000.0  Unknown  \n"
     ]
    }
   ],
   "source": [
    "#Identifying Duplicate Rows\n",
    "duplicates = data[data.duplicated()]\n",
    "print(duplicates)"
   ]
  },
  {
   "cell_type": "code",
   "execution_count": 26,
   "metadata": {},
   "outputs": [],
   "source": [
    "#Remove duplicate Rows\n",
    "data = data.drop_duplicates()"
   ]
  },
  {
   "cell_type": "code",
   "execution_count": 27,
   "metadata": {},
   "outputs": [
    {
     "name": "stdout",
     "output_type": "stream",
     "text": [
      "0\n"
     ]
    }
   ],
   "source": [
    "#verify that duplicates rows have been removed\n",
    "print(data.duplicated().sum())"
   ]
  },
  {
   "cell_type": "code",
   "execution_count": 28,
   "metadata": {},
   "outputs": [
    {
     "data": {
      "text/html": [
       "<div>\n",
       "<style scoped>\n",
       "    .dataframe tbody tr th:only-of-type {\n",
       "        vertical-align: middle;\n",
       "    }\n",
       "\n",
       "    .dataframe tbody tr th {\n",
       "        vertical-align: top;\n",
       "    }\n",
       "\n",
       "    .dataframe thead th {\n",
       "        text-align: right;\n",
       "    }\n",
       "</style>\n",
       "<table border=\"1\" class=\"dataframe\">\n",
       "  <thead>\n",
       "    <tr style=\"text-align: right;\">\n",
       "      <th></th>\n",
       "      <th>Company_Brand</th>\n",
       "      <th>Founded</th>\n",
       "      <th>HeadQuarter</th>\n",
       "      <th>Sector</th>\n",
       "      <th>What_it_does</th>\n",
       "      <th>Founders</th>\n",
       "      <th>Investor</th>\n",
       "      <th>Amount</th>\n",
       "      <th>Stage</th>\n",
       "    </tr>\n",
       "  </thead>\n",
       "  <tbody>\n",
       "    <tr>\n",
       "      <th>0</th>\n",
       "      <td>Unbox Robotics</td>\n",
       "      <td>2019.0</td>\n",
       "      <td>Bangalore</td>\n",
       "      <td>AI startup</td>\n",
       "      <td>Unbox Robotics builds on-demand AI-driven ware...</td>\n",
       "      <td>Pramod Ghadge, Shahid Memon</td>\n",
       "      <td>BEENEXT, Entrepreneur First</td>\n",
       "      <td>$1,200,000</td>\n",
       "      <td>Pre-series A</td>\n",
       "    </tr>\n",
       "    <tr>\n",
       "      <th>1</th>\n",
       "      <td>upGrad</td>\n",
       "      <td>2015.0</td>\n",
       "      <td>Mumbai</td>\n",
       "      <td>EdTech</td>\n",
       "      <td>UpGrad is an online higher education platform.</td>\n",
       "      <td>Mayank Kumar, Phalgun Kompalli, Ravijot Chugh,...</td>\n",
       "      <td>Unilazer Ventures, IIFL Asset Management</td>\n",
       "      <td>$120,000,000</td>\n",
       "      <td>None</td>\n",
       "    </tr>\n",
       "    <tr>\n",
       "      <th>2</th>\n",
       "      <td>Lead School</td>\n",
       "      <td>2012.0</td>\n",
       "      <td>Mumbai</td>\n",
       "      <td>EdTech</td>\n",
       "      <td>LEAD School offers technology based school tra...</td>\n",
       "      <td>Smita Deorah, Sumeet Mehta</td>\n",
       "      <td>GSV Ventures, Westbridge Capital</td>\n",
       "      <td>$30,000,000</td>\n",
       "      <td>Series D</td>\n",
       "    </tr>\n",
       "    <tr>\n",
       "      <th>3</th>\n",
       "      <td>Bizongo</td>\n",
       "      <td>2015.0</td>\n",
       "      <td>Mumbai</td>\n",
       "      <td>B2B E-commerce</td>\n",
       "      <td>Bizongo is a business-to-business online marke...</td>\n",
       "      <td>Aniket Deb, Ankit Tomar, Sachin Agrawal</td>\n",
       "      <td>CDC Group, IDG Capital</td>\n",
       "      <td>$51,000,000</td>\n",
       "      <td>Series C</td>\n",
       "    </tr>\n",
       "    <tr>\n",
       "      <th>4</th>\n",
       "      <td>FypMoney</td>\n",
       "      <td>2021.0</td>\n",
       "      <td>Gurugram</td>\n",
       "      <td>FinTech</td>\n",
       "      <td>FypMoney is Digital NEO Bank for Teenagers, em...</td>\n",
       "      <td>Kapil Banwari</td>\n",
       "      <td>Liberatha Kallat, Mukesh Yadav, Dinesh Nagpal</td>\n",
       "      <td>$2,000,000</td>\n",
       "      <td>Seed</td>\n",
       "    </tr>\n",
       "  </tbody>\n",
       "</table>\n",
       "</div>"
      ],
      "text/plain": [
       "    Company_Brand  Founded HeadQuarter          Sector  \\\n",
       "0  Unbox Robotics   2019.0   Bangalore      AI startup   \n",
       "1          upGrad   2015.0      Mumbai          EdTech   \n",
       "2     Lead School   2012.0      Mumbai          EdTech   \n",
       "3         Bizongo   2015.0      Mumbai  B2B E-commerce   \n",
       "4        FypMoney   2021.0    Gurugram         FinTech   \n",
       "\n",
       "                                        What_it_does  \\\n",
       "0  Unbox Robotics builds on-demand AI-driven ware...   \n",
       "1     UpGrad is an online higher education platform.   \n",
       "2  LEAD School offers technology based school tra...   \n",
       "3  Bizongo is a business-to-business online marke...   \n",
       "4  FypMoney is Digital NEO Bank for Teenagers, em...   \n",
       "\n",
       "                                            Founders  \\\n",
       "0                        Pramod Ghadge, Shahid Memon   \n",
       "1  Mayank Kumar, Phalgun Kompalli, Ravijot Chugh,...   \n",
       "2                         Smita Deorah, Sumeet Mehta   \n",
       "3            Aniket Deb, Ankit Tomar, Sachin Agrawal   \n",
       "4                                      Kapil Banwari   \n",
       "\n",
       "                                        Investor        Amount         Stage  \n",
       "0                    BEENEXT, Entrepreneur First    $1,200,000  Pre-series A  \n",
       "1       Unilazer Ventures, IIFL Asset Management  $120,000,000          None  \n",
       "2               GSV Ventures, Westbridge Capital   $30,000,000      Series D  \n",
       "3                         CDC Group, IDG Capital   $51,000,000      Series C  \n",
       "4  Liberatha Kallat, Mukesh Yadav, Dinesh Nagpal    $2,000,000          Seed  "
      ]
     },
     "execution_count": 28,
     "metadata": {},
     "output_type": "execute_result"
    }
   ],
   "source": [
    "# load 2021 dataset\n",
    "\n",
    "query = '''Select * \n",
    "from dbo.LP1_startup_funding2021'''\n",
    "\n",
    "data = pd.read_sql(query, connection)\n",
    "data.head()"
   ]
  },
  {
   "cell_type": "markdown",
   "metadata": {},
   "source": [
    "CHECK THE SHAPE OF 2021 DATASET\n",
    "\n",
    "The shape of the data tells you the number of rows and columns in your dataset"
   ]
  },
  {
   "cell_type": "code",
   "execution_count": 29,
   "metadata": {},
   "outputs": [
    {
     "data": {
      "text/plain": [
       "(1209, 9)"
      ]
     },
     "execution_count": 29,
     "metadata": {},
     "output_type": "execute_result"
    }
   ],
   "source": [
    "data.shape"
   ]
  },
  {
   "cell_type": "markdown",
   "metadata": {},
   "source": [
    "GET BASIC INFORMATION ABOUT THE 2021 DATASETS\n",
    "\n",
    "This method prints out information on your dataframe including all the columns, non-null values and dtypes"
   ]
  },
  {
   "cell_type": "code",
   "execution_count": 30,
   "metadata": {},
   "outputs": [
    {
     "name": "stdout",
     "output_type": "stream",
     "text": [
      "<class 'pandas.core.frame.DataFrame'>\n",
      "RangeIndex: 1209 entries, 0 to 1208\n",
      "Data columns (total 9 columns):\n",
      " #   Column         Non-Null Count  Dtype  \n",
      "---  ------         --------------  -----  \n",
      " 0   Company_Brand  1209 non-null   object \n",
      " 1   Founded        1208 non-null   float64\n",
      " 2   HeadQuarter    1208 non-null   object \n",
      " 3   Sector         1209 non-null   object \n",
      " 4   What_it_does   1209 non-null   object \n",
      " 5   Founders       1205 non-null   object \n",
      " 6   Investor       1147 non-null   object \n",
      " 7   Amount         1206 non-null   object \n",
      " 8   Stage          781 non-null    object \n",
      "dtypes: float64(1), object(8)\n",
      "memory usage: 85.1+ KB\n"
     ]
    }
   ],
   "source": [
    "data.info()"
   ]
  },
  {
   "cell_type": "markdown",
   "metadata": {},
   "source": [
    "CHECK FOR DUPLICATES IN THE 2021 DATASET"
   ]
  },
  {
   "cell_type": "code",
   "execution_count": 31,
   "metadata": {},
   "outputs": [
    {
     "data": {
      "text/plain": [
       "19"
      ]
     },
     "execution_count": 31,
     "metadata": {},
     "output_type": "execute_result"
    }
   ],
   "source": [
    "data.duplicated().sum()"
   ]
  },
  {
   "cell_type": "markdown",
   "metadata": {},
   "source": [
    "CHECK FOR NULL VALUES IN THE 2021 DATASETS"
   ]
  },
  {
   "cell_type": "code",
   "execution_count": 32,
   "metadata": {},
   "outputs": [
    {
     "data": {
      "text/plain": [
       "Company_Brand      0\n",
       "Founded            1\n",
       "HeadQuarter        1\n",
       "Sector             0\n",
       "What_it_does       0\n",
       "Founders           4\n",
       "Investor          62\n",
       "Amount             3\n",
       "Stage            428\n",
       "dtype: int64"
      ]
     },
     "execution_count": 32,
     "metadata": {},
     "output_type": "execute_result"
    }
   ],
   "source": [
    "data.isnull().sum()"
   ]
  },
  {
   "cell_type": "code",
   "execution_count": 33,
   "metadata": {},
   "outputs": [
    {
     "data": {
      "text/html": [
       "<div>\n",
       "<style scoped>\n",
       "    .dataframe tbody tr th:only-of-type {\n",
       "        vertical-align: middle;\n",
       "    }\n",
       "\n",
       "    .dataframe tbody tr th {\n",
       "        vertical-align: top;\n",
       "    }\n",
       "\n",
       "    .dataframe thead th {\n",
       "        text-align: right;\n",
       "    }\n",
       "</style>\n",
       "<table border=\"1\" class=\"dataframe\">\n",
       "  <thead>\n",
       "    <tr style=\"text-align: right;\">\n",
       "      <th></th>\n",
       "      <th>Founded</th>\n",
       "    </tr>\n",
       "  </thead>\n",
       "  <tbody>\n",
       "    <tr>\n",
       "      <th>count</th>\n",
       "      <td>1208.000000</td>\n",
       "    </tr>\n",
       "    <tr>\n",
       "      <th>mean</th>\n",
       "      <td>2016.655629</td>\n",
       "    </tr>\n",
       "    <tr>\n",
       "      <th>std</th>\n",
       "      <td>4.517364</td>\n",
       "    </tr>\n",
       "    <tr>\n",
       "      <th>min</th>\n",
       "      <td>1963.000000</td>\n",
       "    </tr>\n",
       "    <tr>\n",
       "      <th>25%</th>\n",
       "      <td>2015.000000</td>\n",
       "    </tr>\n",
       "    <tr>\n",
       "      <th>50%</th>\n",
       "      <td>2018.000000</td>\n",
       "    </tr>\n",
       "    <tr>\n",
       "      <th>75%</th>\n",
       "      <td>2020.000000</td>\n",
       "    </tr>\n",
       "    <tr>\n",
       "      <th>max</th>\n",
       "      <td>2021.000000</td>\n",
       "    </tr>\n",
       "  </tbody>\n",
       "</table>\n",
       "</div>"
      ],
      "text/plain": [
       "           Founded\n",
       "count  1208.000000\n",
       "mean   2016.655629\n",
       "std       4.517364\n",
       "min    1963.000000\n",
       "25%    2015.000000\n",
       "50%    2018.000000\n",
       "75%    2020.000000\n",
       "max    2021.000000"
      ]
     },
     "execution_count": 33,
     "metadata": {},
     "output_type": "execute_result"
    }
   ],
   "source": [
    "data.describe()"
   ]
  },
  {
   "cell_type": "code",
   "execution_count": 34,
   "metadata": {},
   "outputs": [
    {
     "data": {
      "text/plain": [
       "Company_Brand    1033\n",
       "Founded            30\n",
       "HeadQuarter        70\n",
       "Sector            254\n",
       "What_it_does     1143\n",
       "Founders         1095\n",
       "Investor          937\n",
       "Amount            278\n",
       "Stage              31\n",
       "dtype: int64"
      ]
     },
     "execution_count": 34,
     "metadata": {},
     "output_type": "execute_result"
    }
   ],
   "source": [
    "data.nunique()"
   ]
  },
  {
   "cell_type": "code",
   "execution_count": 35,
   "metadata": {},
   "outputs": [
    {
     "data": {
      "text/plain": [
       "Company_Brand     object\n",
       "Founded          float64\n",
       "HeadQuarter       object\n",
       "Sector            object\n",
       "What_it_does      object\n",
       "Founders          object\n",
       "Investor          object\n",
       "Amount            object\n",
       "Stage             object\n",
       "dtype: object"
      ]
     },
     "execution_count": 35,
     "metadata": {},
     "output_type": "execute_result"
    }
   ],
   "source": [
    "data.dtypes"
   ]
  },
  {
   "cell_type": "code",
   "execution_count": 36,
   "metadata": {},
   "outputs": [
    {
     "data": {
      "text/plain": [
       "Company_Brand      0\n",
       "Founded            1\n",
       "HeadQuarter        1\n",
       "Sector             0\n",
       "What_it_does       0\n",
       "Founders           4\n",
       "Investor          62\n",
       "Amount             3\n",
       "Stage            428\n",
       "dtype: int64"
      ]
     },
     "execution_count": 36,
     "metadata": {},
     "output_type": "execute_result"
    }
   ],
   "source": [
    "#Displaying colums with missing values\n",
    "data.isna().sum()"
   ]
  },
  {
   "cell_type": "code",
   "execution_count": 44,
   "metadata": {},
   "outputs": [],
   "source": [
    "#Dropping columns\n",
    "data.drop(['column10'],axis=1,inplace=True,errors='ignore')"
   ]
  },
  {
   "cell_type": "code",
   "execution_count": 46,
   "metadata": {},
   "outputs": [
    {
     "data": {
      "text/html": [
       "<div>\n",
       "<style scoped>\n",
       "    .dataframe tbody tr th:only-of-type {\n",
       "        vertical-align: middle;\n",
       "    }\n",
       "\n",
       "    .dataframe tbody tr th {\n",
       "        vertical-align: top;\n",
       "    }\n",
       "\n",
       "    .dataframe thead th {\n",
       "        text-align: right;\n",
       "    }\n",
       "</style>\n",
       "<table border=\"1\" class=\"dataframe\">\n",
       "  <thead>\n",
       "    <tr style=\"text-align: right;\">\n",
       "      <th></th>\n",
       "      <th>Company_Brand</th>\n",
       "      <th>Founded</th>\n",
       "      <th>HeadQuarter</th>\n",
       "      <th>Sector</th>\n",
       "      <th>What_it_does</th>\n",
       "      <th>Founders</th>\n",
       "      <th>Investor</th>\n",
       "      <th>Amount</th>\n",
       "      <th>Stage</th>\n",
       "    </tr>\n",
       "  </thead>\n",
       "  <tbody>\n",
       "    <tr>\n",
       "      <th>0</th>\n",
       "      <td>Unbox Robotics</td>\n",
       "      <td>2019.0</td>\n",
       "      <td>Bangalore</td>\n",
       "      <td>AI startup</td>\n",
       "      <td>Unbox Robotics builds on-demand AI-driven ware...</td>\n",
       "      <td>Pramod Ghadge, Shahid Memon</td>\n",
       "      <td>BEENEXT, Entrepreneur First</td>\n",
       "      <td>$1,200,000</td>\n",
       "      <td>Pre-series A</td>\n",
       "    </tr>\n",
       "    <tr>\n",
       "      <th>1</th>\n",
       "      <td>upGrad</td>\n",
       "      <td>2015.0</td>\n",
       "      <td>Mumbai</td>\n",
       "      <td>EdTech</td>\n",
       "      <td>UpGrad is an online higher education platform.</td>\n",
       "      <td>Mayank Kumar, Phalgun Kompalli, Ravijot Chugh,...</td>\n",
       "      <td>Unilazer Ventures, IIFL Asset Management</td>\n",
       "      <td>$120,000,000</td>\n",
       "      <td>None</td>\n",
       "    </tr>\n",
       "    <tr>\n",
       "      <th>2</th>\n",
       "      <td>Lead School</td>\n",
       "      <td>2012.0</td>\n",
       "      <td>Mumbai</td>\n",
       "      <td>EdTech</td>\n",
       "      <td>LEAD School offers technology based school tra...</td>\n",
       "      <td>Smita Deorah, Sumeet Mehta</td>\n",
       "      <td>GSV Ventures, Westbridge Capital</td>\n",
       "      <td>$30,000,000</td>\n",
       "      <td>Series D</td>\n",
       "    </tr>\n",
       "    <tr>\n",
       "      <th>3</th>\n",
       "      <td>Bizongo</td>\n",
       "      <td>2015.0</td>\n",
       "      <td>Mumbai</td>\n",
       "      <td>B2B E-commerce</td>\n",
       "      <td>Bizongo is a business-to-business online marke...</td>\n",
       "      <td>Aniket Deb, Ankit Tomar, Sachin Agrawal</td>\n",
       "      <td>CDC Group, IDG Capital</td>\n",
       "      <td>$51,000,000</td>\n",
       "      <td>Series C</td>\n",
       "    </tr>\n",
       "    <tr>\n",
       "      <th>4</th>\n",
       "      <td>FypMoney</td>\n",
       "      <td>2021.0</td>\n",
       "      <td>Gurugram</td>\n",
       "      <td>FinTech</td>\n",
       "      <td>FypMoney is Digital NEO Bank for Teenagers, em...</td>\n",
       "      <td>Kapil Banwari</td>\n",
       "      <td>Liberatha Kallat, Mukesh Yadav, Dinesh Nagpal</td>\n",
       "      <td>$2,000,000</td>\n",
       "      <td>Seed</td>\n",
       "    </tr>\n",
       "  </tbody>\n",
       "</table>\n",
       "</div>"
      ],
      "text/plain": [
       "    Company_Brand  Founded HeadQuarter          Sector  \\\n",
       "0  Unbox Robotics   2019.0   Bangalore      AI startup   \n",
       "1          upGrad   2015.0      Mumbai          EdTech   \n",
       "2     Lead School   2012.0      Mumbai          EdTech   \n",
       "3         Bizongo   2015.0      Mumbai  B2B E-commerce   \n",
       "4        FypMoney   2021.0    Gurugram         FinTech   \n",
       "\n",
       "                                        What_it_does  \\\n",
       "0  Unbox Robotics builds on-demand AI-driven ware...   \n",
       "1     UpGrad is an online higher education platform.   \n",
       "2  LEAD School offers technology based school tra...   \n",
       "3  Bizongo is a business-to-business online marke...   \n",
       "4  FypMoney is Digital NEO Bank for Teenagers, em...   \n",
       "\n",
       "                                            Founders  \\\n",
       "0                        Pramod Ghadge, Shahid Memon   \n",
       "1  Mayank Kumar, Phalgun Kompalli, Ravijot Chugh,...   \n",
       "2                         Smita Deorah, Sumeet Mehta   \n",
       "3            Aniket Deb, Ankit Tomar, Sachin Agrawal   \n",
       "4                                      Kapil Banwari   \n",
       "\n",
       "                                        Investor        Amount         Stage  \n",
       "0                    BEENEXT, Entrepreneur First    $1,200,000  Pre-series A  \n",
       "1       Unilazer Ventures, IIFL Asset Management  $120,000,000          None  \n",
       "2               GSV Ventures, Westbridge Capital   $30,000,000      Series D  \n",
       "3                         CDC Group, IDG Capital   $51,000,000      Series C  \n",
       "4  Liberatha Kallat, Mukesh Yadav, Dinesh Nagpal    $2,000,000          Seed  "
      ]
     },
     "execution_count": 46,
     "metadata": {},
     "output_type": "execute_result"
    }
   ],
   "source": [
    "data.head()"
   ]
  },
  {
   "cell_type": "markdown",
   "metadata": {},
   "source": [
    "Handling missing values"
   ]
  },
  {
   "cell_type": "code",
   "execution_count": 47,
   "metadata": {},
   "outputs": [
    {
     "data": {
      "text/plain": [
       "0                         BEENEXT, Entrepreneur First\n",
       "1            Unilazer Ventures, IIFL Asset Management\n",
       "2                    GSV Ventures, Westbridge Capital\n",
       "3                              CDC Group, IDG Capital\n",
       "4       Liberatha Kallat, Mukesh Yadav, Dinesh Nagpal\n",
       "                            ...                      \n",
       "1204                                  Endiya Partners\n",
       "1205                                         IIFL AMC\n",
       "1206                                     Owl Ventures\n",
       "1207                 Winter Capital, ETS, Man Capital\n",
       "1208                   3one4 Capital, Kalaari Capital\n",
       "Name: Investor, Length: 1209, dtype: object"
      ]
     },
     "execution_count": 47,
     "metadata": {},
     "output_type": "execute_result"
    }
   ],
   "source": [
    "#For columns with a few missing values, fill with 'unknown'\n",
    "data['HeadQuarter'].fillna('Unknown,inplace=True')\n",
    "data['Sector'].fillna('Unknown,inplace=True')\n",
    "data['Founders'].fillna('Unknown,inplace=True')\n",
    "data['Investor'].fillna('Unknown,inplace=True')"
   ]
  },
  {
   "cell_type": "code",
   "execution_count": 48,
   "metadata": {},
   "outputs": [],
   "source": [
    "#For'Founded'fill missing values with the median year\n",
    "data['Founded'].fillna(data['Founded'].median(),inplace=True)"
   ]
  },
  {
   "cell_type": "code",
   "execution_count": 51,
   "metadata": {},
   "outputs": [
    {
     "name": "stdout",
     "output_type": "stream",
     "text": [
      "Data type of 'Amount' column: object\n",
      "First few values in 'Amount' column:\n",
      " 0      $1,200,000\n",
      "1    $120,000,000\n",
      "2     $30,000,000\n",
      "3     $51,000,000\n",
      "4      $2,000,000\n",
      "Name: Amount, dtype: object\n",
      "First few values in 'Amount' column after conversion:\n",
      " 0   NaN\n",
      "1   NaN\n",
      "2   NaN\n",
      "3   NaN\n",
      "4   NaN\n",
      "Name: Amount, dtype: float64\n",
      "First few values in 'Amount' column after filling NaNs:\n",
      " 0   NaN\n",
      "1   NaN\n",
      "2   NaN\n",
      "3   NaN\n",
      "4   NaN\n",
      "Name: Amount, dtype: float64\n"
     ]
    }
   ],
   "source": [
    "#Inspect the 'Amount' column\n",
    "print(\"Data type of 'Amount' column:\", data['Amount'].dtype)\n",
    "print(\"First few values in 'Amount' column:\\n\", data['Amount'].head())\n",
    "\n",
    "# Convert to numeric, forcing errors to NaN\n",
    "data['Amount'] = pd.to_numeric(data['Amount'], errors='coerce')\n",
    "\n",
    "# Check for any remaining non-numeric values or NaNs\n",
    "print(\"First few values in 'Amount' column after conversion:\\n\", data['Amount'].head())\n",
    "\n",
    "# Fill missing values with the median\n",
    "data['Amount'].fillna(data['Amount'].median(), inplace=True)\n",
    "\n",
    "# Verify if the missing values are filled\n",
    "print(\"First few values in 'Amount' column after filling NaNs:\\n\", data['Amount'].head())"
   ]
  },
  {
   "cell_type": "code",
   "execution_count": 53,
   "metadata": {},
   "outputs": [],
   "source": [
    "#For'Founded'fill missing values with aplaceholder\n",
    "data['Stage'].fillna('Unknown',inplace=True)"
   ]
  },
  {
   "cell_type": "code",
   "execution_count": 54,
   "metadata": {},
   "outputs": [],
   "source": [
    "#Treating the 'Founded' as Year.\n",
    "#Convert 'Founded' to integer type.\n",
    "data['Founded'] = data['Founded'].astype(int)"
   ]
  },
  {
   "cell_type": "code",
   "execution_count": 55,
   "metadata": {},
   "outputs": [],
   "source": [
    "#Optimizing Memory usage\n",
    "#Convert 'Stage' to categorical type\n",
    "data['Stage'] = data['Stage'].astype('category')"
   ]
  },
  {
   "cell_type": "code",
   "execution_count": 56,
   "metadata": {},
   "outputs": [
    {
     "name": "stdout",
     "output_type": "stream",
     "text": [
      "<class 'pandas.core.frame.DataFrame'>\n",
      "RangeIndex: 1209 entries, 0 to 1208\n",
      "Data columns (total 9 columns):\n",
      " #   Column         Non-Null Count  Dtype   \n",
      "---  ------         --------------  -----   \n",
      " 0   Company_Brand  1209 non-null   object  \n",
      " 1   Founded        1209 non-null   int32   \n",
      " 2   HeadQuarter    1208 non-null   object  \n",
      " 3   Sector         1209 non-null   object  \n",
      " 4   What_it_does   1209 non-null   object  \n",
      " 5   Founders       1205 non-null   object  \n",
      " 6   Investor       1147 non-null   object  \n",
      " 7   Amount         0 non-null      float64 \n",
      " 8   Stage          1209 non-null   category\n",
      "dtypes: category(1), float64(1), int32(1), object(6)\n",
      "memory usage: 73.4+ KB\n"
     ]
    }
   ],
   "source": [
    "#verifying the changes\n",
    "data.info()"
   ]
  },
  {
   "cell_type": "code",
   "execution_count": 57,
   "metadata": {},
   "outputs": [
    {
     "name": "stdout",
     "output_type": "stream",
     "text": [
      "          Company_Brand  Founded             HeadQuarter  \\\n",
      "107           Curefoods     2020               Bangalore   \n",
      "109            Bewakoof     2012                  Mumbai   \n",
      "111             FanPlay     2020          Computer Games   \n",
      "117      Advantage Club     2014                  Mumbai   \n",
      "119              Ruptok     2020               New Delhi   \n",
      "243            Trinkerr     2021               Bangalore   \n",
      "244               Zorro     2021                Gurugram   \n",
      "245       Ultraviolette     2021               Bangalore   \n",
      "246          NephroPlus     2009               Hyderabad   \n",
      "247             Unremot     2020               Bangalore   \n",
      "248         FanAnywhere     2021               Bangalore   \n",
      "249          PingoLearn     2021                    Pune   \n",
      "250                Spry     2021                  Mumbai   \n",
      "251             Enmovil     2015               Hyderabad   \n",
      "252       ASQI Advisors     2019                  Mumbai   \n",
      "253  Insurance Samadhan     2018               New Delhi   \n",
      "254     Evenflow Brands     2020                  Mumbai   \n",
      "255          MasterChow     2020        Food & Beverages   \n",
      "256  Fullife Healthcare     2009  Pharmaceuticals\\t#REF!   \n",
      "394                 MPL     2018               Bangalore   \n",
      "407            BharatPe     2018               New Delhi   \n",
      "862              BYJU'S     2011               Bangalore   \n",
      "\n",
      "                                                Sector  \\\n",
      "107                                   Food & Beverages   \n",
      "109                                  Apparel & Fashion   \n",
      "111                                     Computer Games   \n",
      "117                                             HRTech   \n",
      "119                                            FinTech   \n",
      "243                                    Capital Markets   \n",
      "244                                     Social network   \n",
      "245                                         Automotive   \n",
      "246                             Hospital & Health Care   \n",
      "247                  Information Technology & Services   \n",
      "248                                 Financial Services   \n",
      "249                                         E-learning   \n",
      "250                                              Music   \n",
      "251                  Information Technology & Services   \n",
      "252                                 Financial Services   \n",
      "253                                          Insurance   \n",
      "254                                     Consumer Goods   \n",
      "255                                          Hauz Khas   \n",
      "256  Primary Business is Development and Manufactur...   \n",
      "394                                             Gaming   \n",
      "407                                            FinTech   \n",
      "862                                             EdTech   \n",
      "\n",
      "                                          What_it_does  \\\n",
      "107  Healthy & nutritious foods and cold pressed ju...   \n",
      "109  Bewakoof is a lifestyle fashion brand that mak...   \n",
      "111  A real money game app specializing in trivia g...   \n",
      "117  Advantage Club is India's largest employee eng...   \n",
      "119  Ruptok fintech Pvt. Ltd. is an online gold loa...   \n",
      "243  Trinkerr is India's first social trading platf...   \n",
      "244               Pseudonymous social network platform   \n",
      "245  Create and Inspire the future of sustainable u...   \n",
      "246  A vision and passion of redefining healthcare ...   \n",
      "247      Unremot is a personal office for consultants!   \n",
      "248                             Celebrity NFT platform   \n",
      "249  PingoLearn offers language learning courses wi...   \n",
      "250  THE BEST ROYALTY-FREE MUSIC TO CREATE TRENDING...   \n",
      "251  Enmovil delivers a Business Intelligence Platf...   \n",
      "252  Bringing Blockchain technology intro mainstrea...   \n",
      "253  The insurance industry will help in representa...   \n",
      "254  Identify and partner with the upcoming eCommer...   \n",
      "255                A ready-to-cook Asian cuisine brand   \n",
      "256                                       Varun Khanna   \n",
      "394  Mobile Premier League is a skill-based eSports...   \n",
      "407  BharatPe develops a QR code-based payment app ...   \n",
      "862  BYJU'S is an educational technology company th...   \n",
      "\n",
      "                                          Founders  \\\n",
      "107                                   Ankit Nagori   \n",
      "109                               Prabhkiran Singh   \n",
      "111                                         YC W21   \n",
      "117             Sourabh Deorah, Smiti Bhatt Deorah   \n",
      "119                                    Ankur Gupta   \n",
      "243                Manvendra Singh, Gaurav Agarwal   \n",
      "244  Jasveer Singh, Abhishek Asthana, Deepak Kumar   \n",
      "245            Subramaniam Narayan, Niraj Rajmohan   \n",
      "246                                 Vikram Vuppala   \n",
      "247                            Shiju Radhakrishnan   \n",
      "248                    Varun Chaudhary, Amit Kumar   \n",
      "249             Mohit Menghani, Shubham Maheshwari   \n",
      "250                Gaurav Dagaonkar, Meghna Mittal   \n",
      "251     Ravi Bulusu, Nanda Kishore, Venkat Moganty   \n",
      "252                                  Swapnil Pawar   \n",
      "253                     Deepak Bhuvenshwari Uniyal   \n",
      "254                  Utsav Agarwal, Pulkit Chhabra   \n",
      "255                  Vidur Kataria, Sidhanth Madan   \n",
      "256             Morgan Stanley Private Equity Asia   \n",
      "394         Sai Srinivas Kiran G, Shubham Malhotra   \n",
      "407               Ashneer Grover, Shashvat Nakrani   \n",
      "862               Byju Raveendran, Divya Gokulnath   \n",
      "\n",
      "                                              Investor  Amount         Stage  \n",
      "107                Iron Pillar, Nordstar, Binny Bansal     NaN       Unknown  \n",
      "109                                         InvestCorp     NaN       Unknown  \n",
      "111                        Pritesh Kumar, Bharat Gupta     NaN      $1200000  \n",
      "117           Y Combinator, Broom Ventures, Kunal Shah     NaN       Unknown  \n",
      "119                                     Eclear Leasing     NaN       Unknown  \n",
      "243                                        Accel India     NaN      Series A  \n",
      "244  Vijay Shekhar Sharma, Ritesh Agarwal, Ankiti Bose     NaN          Seed  \n",
      "245                                    TVS Motor, Zoho     NaN      Series C  \n",
      "246                              IIFL Asset Management     NaN      Series E  \n",
      "247                          Inflection Point Ventures     NaN          Seed  \n",
      "248        Oasis Capital, Scorpio VC, DeltaHub Capital     NaN          Seed  \n",
      "249  Titan Capital, Haresh Chawla, AngelList Syndicate     NaN       Unknown  \n",
      "250                          9Unicorns, Ashneer Grover     NaN          Seed  \n",
      "251                                  Anicut Angel Fund     NaN  Pre-series A  \n",
      "252                              Founders Room Capital     NaN  Pre-series A  \n",
      "253                                     9Unicorns, ZNL     NaN  Pre-series A  \n",
      "254                                               None     NaN       Unknown  \n",
      "255                                       WEH Ventures     NaN          Seed  \n",
      "256                                          $22000000     NaN       Unknown  \n",
      "394               Pegasus Tech Ventures, Base Partners     NaN       Unknown  \n",
      "407                 InnoVen Capital, Steadview Capital     NaN          Debt  \n",
      "862                    Tiga Investments, Baron Capital     NaN       Unknown  \n"
     ]
    }
   ],
   "source": [
    "#Identifying Duplicate Rows\n",
    "duplicates = data[data.duplicated()]\n",
    "print(duplicates)"
   ]
  },
  {
   "cell_type": "code",
   "execution_count": 58,
   "metadata": {},
   "outputs": [],
   "source": [
    "#Remove duplicate Rows\n",
    "data = data.drop_duplicates()"
   ]
  },
  {
   "cell_type": "code",
   "execution_count": 61,
   "metadata": {},
   "outputs": [
    {
     "name": "stdout",
     "output_type": "stream",
     "text": [
      "0\n"
     ]
    }
   ],
   "source": [
    "#verify that duplicates rows have been removed\n",
    "print(data.duplicated().sum())"
   ]
  }
 ],
 "metadata": {
  "kernelspec": {
   "display_name": "Python 3",
   "language": "python",
   "name": "python3"
  },
  "language_info": {
   "codemirror_mode": {
    "name": "ipython",
    "version": 3
   },
   "file_extension": ".py",
   "mimetype": "text/x-python",
   "name": "python",
   "nbconvert_exporter": "python",
   "pygments_lexer": "ipython3",
   "version": "3.12.3"
  }
 },
 "nbformat": 4,
 "nbformat_minor": 2
}
